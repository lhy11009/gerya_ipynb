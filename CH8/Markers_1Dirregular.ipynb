{
 "cells": [
  {
   "cell_type": "markdown",
   "metadata": {},
   "source": [
    "### Exercise 8.3\n",
    "\n",
    "Modify the previous marker-based code by introducing non-uniform distances between\n",
    "nodal points and markers and by using a bisection algorithm (Fig. 8.10) to define\n",
    "indices of the two nearest nodes. Prescribe a slightly variable velocity on the nodal\n",
    "points and interpolate it to markers when displacing them. An example is in\n",
    "Markers_1Dirregular.m."
   ]
  },
  {
   "cell_type": "code",
   "execution_count": null,
   "metadata": {},
   "outputs": [],
   "source": [
    "import numpy as np\n",
    "import random\n",
    "from matplotlib import pyplot as plt\n",
    "from matplotlib import gridspec"
   ]
  },
  {
   "cell_type": "markdown",
   "metadata": {},
   "source": [
    "#### Step 1: Build the mesh and prescribe the initial wave form\n",
    "\n",
    "Use random function to generate non-uniform mesh and variable velocity.\n",
    "The mesh generated has a resolution of (0.75 - 1.25) * xstp.\n",
    "And the velocity field has a magnitude of (0.5 - 1.5) * vx"
   ]
  },
  {
   "cell_type": "code",
   "execution_count": null,
   "metadata": {},
   "outputs": [],
   "source": [
    "xsize = 150.0 # m\n",
    "xnum = 151\n",
    "xstp = xsize / (xnum-1)\n",
    "xs = np.linspace(0.0, 150.0, xnum)\n",
    "for i in range(xnum):  \n",
    "    # generate non-uniform spacing mesh\n",
    "    xs[i] += (random.uniform(0.0, 1.0) - 0.5) * xstp / 4.0\n",
    "\n",
    "vx0 = 1 # 1m/s\n",
    "ntimes = 800  # count of time steps\n",
    "dx = 60.0  # total distance\n",
    "t = dx / vx0\n",
    "dt = xstp / vx0 * dx / ntimes  # this corresponds to a small coefficient in the Corant condition\n",
    "vxs = np.zeros(xnum)\n",
    "for i in range(xnum):\n",
    "    # generate variable velocity\n",
    "    vxs[i] = vx0 * (random.uniform(0.0, 1.0) + 0.5)\n",
    "\n",
    "def get_initial_density(xs):\n",
    "    '''\n",
    "    get initial density on x coordinates\n",
    "    Inputs:\n",
    "        xs (list of double): x coordinates\n",
    "    return:\n",
    "        rho0s (list of doubles): initial densities\n",
    "    '''\n",
    "    xnum = xs.size\n",
    "    rhos0 = np.zeros(xnum)\n",
    "    # Defining initial density distribution \n",
    "    for i in range(xnum):\n",
    "        # Background density\n",
    "        rhos0[i] = 3000.0\n",
    "        # Square wave\n",
    "        if xs[i]>=3 and xs[i]<=23:\n",
    "            rhos0[i]=3300\n",
    "        # Triangular wave\n",
    "        if xs[i] >= 43 and xs[i] <= 53:\n",
    "            rhos0[i] = 3000+ (xs[i]-43) / 10 * 300.0\n",
    "        if xs[i] >=53 and xs[i] <=63:\n",
    "            rhos0[i] = 3300 - (xs[i]-53) / 10 * 300.0\n",
    "    return rhos0\n",
    "\n",
    "\n",
    "rhos0 = get_initial_density(xs)  # get initial density on nodes"
   ]
  },
  {
   "cell_type": "markdown",
   "metadata": {},
   "source": [
    "### Step 2: Advection method\n",
    "\n",
    "#### Issue of vary small value encoutered in the weight of averaging\n",
    "\n",
    "Note that there is issue encountered by the interpolation of mesh property when the number of markers is 200.\n",
    "Here is the warning message.\n",
    "\n",
    "    /tmp/ipykernel_2805009/3036365379.py:68: RuntimeWarning: invalid value encountered in double_scalars\n",
    "        rhos[i] /= sum_dist\n",
    "\n",
    "Is it due to a near 0.0 value? yes\n",
    "It will come with the warning message I tried to shoot:\n",
    "\n",
    "    \"marker_in_cell_property: vary small value encountered in the weight of averaging.\"\n",
    "\n",
    "When the number of markers is increased to 500, this is not an issue anymore."
   ]
  },
  {
   "cell_type": "code",
   "execution_count": null,
   "metadata": {},
   "outputs": [],
   "source": [
    "def nodeL_index(x, xs):\n",
    "    '''\n",
    "    Get the nearest node to the left of a point x\n",
    "    '''\n",
    "    xnum = xs.size\n",
    "    id0 = 0\n",
    "    id1 = xnum-1\n",
    "    while (id1 - id0 > 1):\n",
    "        id_mid = int((id0 + id1) / 2.0)\n",
    "        x_mid = xs[id_mid]\n",
    "        if x_mid < x:\n",
    "            id0 = id_mid\n",
    "        else:\n",
    "            id1 = id_mid\n",
    "    return id0\n",
    "\n",
    "\n",
    "def marker_in_cell_advection(xs, xms0, vxs, dt):\n",
    "    '''\n",
    "    marker in cell advection scheme\n",
    "    Inputs:\n",
    "        xs (list of float): x coordinates\n",
    "        xms0 (list of float): x coordinates of markers in the previous step\n",
    "        vxs: velocity\n",
    "        dt: time step\n",
    "    Returns:\n",
    "        xms (list of float): x coordinates of markers\n",
    "    '''\n",
    "    xsize = xs[-1] - xs[0]  # size of the domain\n",
    "    mnum = xms0.size\n",
    "    xms = np.zeros(mnum)\n",
    "    ids_on_nodes = [[] for i in range(xnum)]\n",
    "    for i in range(mnum):\n",
    "        x_marker = xms0[i]\n",
    "        n0 = nodeL_index(x_marker, xs) # index of the node to the left of the marker\n",
    "        xstp = xs[n0+1] - xs[n0]\n",
    "        vxi = vxs[n0]*(xs[n0+1] - x_marker)/xstp + vxs[n0+1]*(x_marker - xs[n0])/xstp\n",
    "        xms[i] = xms0[i] + vxi * dt\n",
    "        if xms[i] < 0.0:\n",
    "            # recycle left side\n",
    "            xms[i] += xsize\n",
    "        elif xms[i] > xsize:\n",
    "            # recycle right side\n",
    "            xms[i] -= xsize\n",
    "        n = nodeL_index(xms[i], xs) # add the index of this marker to nodes to the left and right\n",
    "        ids_on_nodes[n].append(i)\n",
    "        ids_on_nodes[n+1].append(i)\n",
    "    return xms, ids_on_nodes\n",
    "\n",
    "\n",
    "def marker_in_cell_property(xs, xms, rho_of_markers, ids_on_nodes):\n",
    "    '''\n",
    "    weight averaging of densities on markers to get the density field on nodes\n",
    "    Inputs:\n",
    "        xs (list of float): x coordinates\n",
    "        xms (list of float): x coordinates of markers\n",
    "        rho_of_markers: density of markers\n",
    "        ids_on_nodes: ids of markers near a node\n",
    "    '''\n",
    "    xnum = xs.size\n",
    "    rhos = np.zeros(xnum)\n",
    "    for i in range(xnum):\n",
    "        sum_dist = 0.0\n",
    "        for id in ids_on_nodes[i]:\n",
    "            dist = abs(xms[id] - xs[i])\n",
    "            rhos[i] += rho_of_markers[id] * dist\n",
    "            sum_dist += dist\n",
    "        if abs(sum_dist) < 1e-16:\n",
    "            print(\"marker_in_cell_property: vary small value encountered in the weight of averaging.\")\n",
    "        rhos[i] /= sum_dist\n",
    "    return rhos"
   ]
  },
  {
   "cell_type": "markdown",
   "metadata": {},
   "source": [
    "#### Step 3: advection\n",
    "\n",
    "Here, an array is initiated for each method.\n",
    "Advection is handled by looping the time steps."
   ]
  },
  {
   "cell_type": "code",
   "execution_count": null,
   "metadata": {},
   "outputs": [],
   "source": [
    "rhos_mic = rhos0.copy()\n",
    "n_marker = 500  # number of markers\n",
    "xms = np.linspace(0, xsize, n_marker)  # initial positions of markers\n",
    "rho_of_markers = get_initial_density(xms)  # initial density of markers\n",
    "\n",
    "# advection by time step\n",
    "for i in range(ntimes):\n",
    "    xms, ids_on_nodes = marker_in_cell_advection(xs, xms, vxs, dt)\n",
    "    rhos_mic = marker_in_cell_property(xs, xms, rho_of_markers, ids_on_nodes)\n",
    "\n"
   ]
  },
  {
   "cell_type": "markdown",
   "metadata": {},
   "source": [
    "#### Plot"
   ]
  },
  {
   "cell_type": "code",
   "execution_count": null,
   "metadata": {},
   "outputs": [],
   "source": [
    "fig = plt.figure(tight_layout=True, figsize=(5, 10))\n",
    "gs = gridspec.GridSpec(2, 1)\n",
    "ax = fig.add_subplot(gs[0, 0])  # initial\n",
    "ax.plot(xs, rhos0, 'b')\n",
    "ax.set_xlabel(\"x [m]\")\n",
    "ax.set_ylabel(\"Density [kg/m3]\")\n",
    "ax.set_xlim(0.0, 80.0)\n",
    "ax.set_title(\"t = 0.0 s\")\n",
    "ax = fig.add_subplot(gs[1, 0])  # method in cell\n",
    "ax.plot(xs, rhos_mic, 'r.', label=\"marker in cell\")\n",
    "ax.set_xlabel(\"x [m]\")\n",
    "ax.set_ylabel(\"Density [kg/m3]\")\n",
    "ax.set_xlim(dx, 80.0 + dx)\n",
    "ax.set_title(\"MiC, t = %.1f s\" % t)\n",
    "ax.legend()\n",
    "fig.show()"
   ]
  }
 ],
 "metadata": {
  "interpreter": {
   "hash": "b2cd2653c51aa0b503dfd2a771c529540da224845193c4ee482b9b504226dda5"
  },
  "kernelspec": {
   "display_name": "Python 3.8.12 ('gel298_winter')",
   "language": "python",
   "name": "python3"
  },
  "language_info": {
   "codemirror_mode": {
    "name": "ipython",
    "version": 3
   },
   "file_extension": ".py",
   "mimetype": "text/x-python",
   "name": "python",
   "nbconvert_exporter": "python",
   "pygments_lexer": "ipython3",
   "version": "3.8.12"
  },
  "orig_nbformat": 4
 },
 "nbformat": 4,
 "nbformat_minor": 2
}

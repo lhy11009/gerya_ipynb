{
 "cells": [
  {
   "cell_type": "markdown",
   "metadata": {},
   "source": [
    "### Exercise 10.3\n",
    "\n",
    "In this exercise, we add advection to the last exercise."
   ]
  },
  {
   "cell_type": "code",
   "execution_count": 1,
   "metadata": {},
   "outputs": [],
   "source": [
    "import numpy as np\n",
    "import sys\n",
    "from matplotlib import pyplot as plt\n",
    "import time\n",
    "import scipy.sparse as sparse\n",
    "import scipy.sparse.linalg\n",
    "ROOTDIR = '/home/lochy/Documents/Subject/ucd_geology/Gel298_winter/jupyter_notebooks'\n",
    "sys.path.append('%s/python_scripts' % ROOTDIR)\n",
    "from GMesh2d import MESH2D\n",
    "from GHeatConservationSolver import IMPLICIT_SOLVER\n",
    "from GMarker import MARKER "
   ]
  },
  {
   "cell_type": "markdown",
   "metadata": {},
   "source": [
    "#### Initiate a 2d mesh\n",
    "\n",
    "This MESH2D class is defined in \"python_scripts/GMesh2d.py\". \n",
    "Here, we use a regular grid of 51 × 31 points. The model size is 1000 × 1500 km2 (i.e. 1 000 000 × 1 500 000 m2). "
   ]
  },
  {
   "cell_type": "code",
   "execution_count": 2,
   "metadata": {},
   "outputs": [],
   "source": [
    "# initiate mesh\n",
    "xsize = 1000000.0 # Model size, m\n",
    "ysize = 1500000.0\n",
    "xnum = 41   # Number of nodes\n",
    "ynum = 61\n",
    "xs = np.linspace(0.0, xsize, xnum) # construct xs\n",
    "ys = np.linspace(0.0, ysize, ynum) # construct ys\n",
    "Mesh2d = MESH2D(xs, ys)"
   ]
  },
  {
   "cell_type": "markdown",
   "metadata": {},
   "source": [
    "#### Read in the initial temperature\n",
    "\n",
    "The initial setup corresponds to a background temperature of 1000 K with a rectangular thermal wave (1300 K) in the middle (‘wave’ means sharp perturbation of the temperature field).\n",
    "Moreover, we assign the thermal parameters accordingly here."
   ]
  },
  {
   "cell_type": "code",
   "execution_count": 3,
   "metadata": {},
   "outputs": [
    {
     "data": {
      "text/plain": [
       "<matplotlib.colorbar.Colorbar at 0x7f6444a59e90>"
      ]
     },
     "execution_count": 3,
     "metadata": {},
     "output_type": "execute_result"
    },
    {
     "data": {
      "image/png": "[encoded data removed]",
      "text/plain": [
       "<Figure size 432x288 with 2 Axes>"
      ]
     },
     "metadata": {
      "needs_background": "light"
     },
     "output_type": "display_data"
    }
   ],
   "source": [
    "# initial temperature\n",
    "def rectangular_wave_temperature(x, y, xsize, ysize):\n",
    "    '''\n",
    "    temperature profile of a retangular wave in the middle\n",
    "    '''\n",
    "    dx = xsize / 3.0\n",
    "    dy = ysize / 3.0\n",
    "    if type(x) == float and type(y) == float:\n",
    "      assert(x >= 0 and x <= xsize and y >= 0 and y <= ysize)\n",
    "      if x > (xsize - dx) / 2.0 and x < (xsize + dx) / 2.0\\\n",
    "        and y > (ysize - dy) / 2.0 and y < (ysize + dy) / 2.0:\n",
    "        T = 1300.0\n",
    "      else:\n",
    "        T = 1000.0\n",
    "    elif type(x) == np.ndarray and type(y) == np.ndarray:\n",
    "      assert(x.shape == y.shape)\n",
    "      mask = (x > (xsize - dx) / 2.0) & (x < (xsize + dx) / 2.0)\\\n",
    "        & (y > (ysize - dy) / 2.0) & (y < (ysize + dy) / 2.0)\n",
    "      T = np.ones(x.shape) * 1000.0\n",
    "      T[mask] = 1300.0\n",
    "    else:\n",
    "      raise TypeError(\"Type of x or y is wrong (either float or numpy.ndarray\")\n",
    "    return T\n",
    "\n",
    "\n",
    "def rectangular_wave_density(x, y, xsize, ysize):\n",
    "    '''\n",
    "    temperature profile of a retangular wave in the middle\n",
    "    '''\n",
    "    dx = xsize / 3.0\n",
    "    dy = ysize / 3.0\n",
    "    if type(x) == float and type(y) == float:\n",
    "      assert(x >= 0 and x <= xsize and y >= 0 and y <= ysize)\n",
    "      if x > (xsize - dx) / 2.0 and x < (xsize + dx) / 2.0\\\n",
    "        and y > (ysize - dy) / 2.0 and y < (ysize + dy) / 2.0:\n",
    "        rho = 3300.0\n",
    "      else:\n",
    "        rho = 3200.0\n",
    "    elif type(x) == np.ndarray and type(y) == np.ndarray:\n",
    "      assert(x.shape == y.shape)\n",
    "      mask = (x > (xsize - dx) / 2.0) & (x < (xsize + dx) / 2.0)\\\n",
    "        & (y > (ysize - dy) / 2.0) & (y < (ysize + dy) / 2.0)\n",
    "      rho = np.ones(x.shape) * 3200.0\n",
    "      rho[mask] = 3300.0\n",
    "    else:\n",
    "      raise TypeError(\"Type of x or y is wrong (either float or numpy.ndarray\")\n",
    "    return rho\n",
    "\n",
    "\n",
    "def rectangular_wave_thermal_capacity(x, y, xsize, ysize):\n",
    "    '''\n",
    "    temperature profile of a retangular wave in the middle\n",
    "    '''\n",
    "    dx = xsize / 3.0\n",
    "    dy = ysize / 3.0\n",
    "    if type(x) == float and type(y) == float:\n",
    "      assert(x >= 0 and x <= xsize and y >= 0 and y <= ysize)\n",
    "      if x > (xsize - dx) / 2.0 and x < (xsize + dx) / 2.0\\\n",
    "        and y > (ysize - dy) / 2.0 and y < (ysize + dy) / 2.0:\n",
    "        cp = 1100.0\n",
    "      else:\n",
    "        cp = 1000.0\n",
    "    elif type(x) == np.ndarray and type(y) == np.ndarray:\n",
    "      assert(x.shape == y.shape)\n",
    "      mask = (x > (xsize - dx) / 2.0) & (x < (xsize + dx) / 2.0)\\\n",
    "        & (y > (ysize - dy) / 2.0) & (y < (ysize + dy) / 2.0)\n",
    "      cp = np.ones(x.shape) * 1000.0\n",
    "      cp[mask] = 1100.0\n",
    "    else:\n",
    "      raise TypeError(\"Type of x or y is wrong (either float or numpy.ndarray\")\n",
    "    return cp\n",
    "\n",
    "\n",
    "def rectangular_wave_thermal_conductivity(x, y, xsize, ysize):\n",
    "    '''\n",
    "    temperature profile of a retangular wave in the middle\n",
    "    '''\n",
    "    dx = xsize / 3.0\n",
    "    dy = ysize / 3.0\n",
    "    if type(x) == float and type(y) == float:\n",
    "      assert(x >= 0 and x <= xsize and y >= 0 and y <= ysize)\n",
    "      if x > (xsize - dx) / 2.0 and x < (xsize + dx) / 2.0\\\n",
    "        and y > (ysize - dy) / 2.0 and y < (ysize + dy) / 2.0:\n",
    "        k = 10.0\n",
    "      else:\n",
    "        k = 3.0\n",
    "    elif type(x) == np.ndarray and type(y) == np.ndarray:\n",
    "      assert(x.shape == y.shape)\n",
    "      mask = (x > (xsize - dx) / 2.0) & (x < (xsize + dx) / 2.0)\\\n",
    "        & (y > (ysize - dy) / 2.0) & (y < (ysize + dy) / 2.0)\n",
    "      k = np.ones(x.shape) * 3.0\n",
    "      k[mask] = 10.0\n",
    "    else:\n",
    "      raise TypeError(\"Type of x or y is wrong (either float or numpy.ndarray\")\n",
    "    return k\n",
    "\n",
    "\n",
    "xxs, yys = np.meshgrid(xs, ys)\n",
    "Ts_init = rectangular_wave_temperature(xxs, yys, xsize, ysize)\n",
    "rhos = rectangular_wave_density(xxs, yys, xsize, ysize)\n",
    "cps = rectangular_wave_thermal_capacity(xxs, yys, xsize, ysize)\n",
    "thermal_conductivities = rectangular_wave_thermal_conductivity(xxs, yys, xsize, ysize)\n",
    "\n",
    "\n",
    "# plot\n",
    "fig, ax = plt.subplots()\n",
    "h = ax.pcolor(xxs, yys, Ts_init)\n",
    "ax.set_title('Initial temperature')\n",
    "ax.set_xlabel('x (m)')\n",
    "ax.set_ylabel('y (m)')\n",
    "ax.invert_yaxis()\n",
    "ax.axis('equal')\n",
    "ax.set_xlim([0.0, xsize])\n",
    "ax.set_ylim([0.0, ysize])\n",
    "fig.colorbar(h, ax=ax, label='T (K)')"
   ]
  },
  {
   "cell_type": "markdown",
   "metadata": {},
   "source": [
    "#### Solve the problem\n",
    "\n",
    "The limit of time step is given by $t_m = \\frac{\\Delta x^2}{2\\kappa}$, thus we first output this value below."
   ]
  },
  {
   "cell_type": "code",
   "execution_count": 4,
   "metadata": {},
   "outputs": [
    {
     "name": "stdout",
     "output_type": "stream",
     "text": [
      "Limit on time step: 1.0570e+07 year\n"
     ]
    }
   ],
   "source": [
    "year = 365 * 24 * 3600.0\n",
    "# use variable thermal parameters\n",
    "kappa = 3.0 / (3200.0 * 1000.0)  # use the given parameter, derive the smalles kappa manually\n",
    "dt_m = (xsize / (xnum-1.0))**2.0 / (2*kappa)\n",
    "print(\"Limit on time step: %.4e year\" % (dt_m / year))"
   ]
  },
  {
   "cell_type": "markdown",
   "metadata": {},
   "source": [
    "With this estimation, we first test a scenario where the time increment is choosen as $0.6 t_m$"
   ]
  },
  {
   "cell_type": "code",
   "execution_count": null,
   "metadata": {},
   "outputs": [],
   "source": [
    "# load the marker\n",
    "Marker = MARKER(Mesh2d, 100, 150)"
   ]
  },
  {
   "cell_type": "code",
   "execution_count": null,
   "metadata": {},
   "outputs": [],
   "source": [
    "scaling1 = 1e-6 / (xsize/xnum)**2.0 * 1000.0  # scaling factor, kappa / dx^2.0 * T\n",
    "dt = dt_m / 3.0  # what Geyra used in his script.\n",
    "# dt = 1.0  # debug: with this, the temperature profile should be the initial profile\n",
    "total_step = 20\n",
    "# initiate solver\n",
    "HCSolver = IMPLICIT_SOLVER(Mesh2d)\n",
    "HCSolver.initial_temperature(Ts_init)  # use the rectangular perturbation as the initial temperature\n",
    "HCSolver.thermal_profile(rhos, cps, thermal_conductivities)  # load the thermal parameters as well\n",
    "for step in range(total_step):\n",
    "    # assemble and solve\n",
    "    HCSolver.assemble(dt, scaling=scaling1)\n",
    "    HCSolver.solve()\n",
    "    # export and plot\n",
    "    xxs, yys, Ts = HCSolver.export()\n",
    "    t = HCSolver.get_time()\n",
    "    fig, ax = plt.subplots()\n",
    "    h = ax.pcolor(xxs, yys, Ts)\n",
    "    ax.set_title('Temperature, t = %.4e year' % (t/year))\n",
    "    ax.set_xlabel('x (m)')\n",
    "    ax.set_ylabel('y (m)')\n",
    "    ax.set_xlim([0.0, xsize])\n",
    "    ax.set_ylim([0.0, ysize])\n",
    "    ax.axis('equal')\n",
    "    ax.invert_yaxis()\n",
    "    fig.colorbar(h, ax=ax, label='T (K)')"
   ]
  }
 ],
 "metadata": {
  "interpreter": {
   "hash": "04f94a466fc6855f7f994dd3204adbc7760ad767ef3aef9ead569409decf9820"
  },
  "kernelspec": {
   "display_name": "Python (aspectLib)",
   "language": "python",
   "name": "python3"
  },
  "language_info": {
   "codemirror_mode": {
    "name": "ipython",
    "version": 3
   },
   "file_extension": ".py",
   "mimetype": "text/x-python",
   "name": "python",
   "nbconvert_exporter": "python",
   "pygments_lexer": "ipython3",
   "version": "3.7.10"
  },
  "orig_nbformat": 4
 },
 "nbformat": 4,
 "nbformat_minor": 2
}

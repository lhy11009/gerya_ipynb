{
 "cells": [
  {
   "cell_type": "markdown",
   "metadata": {},
   "source": [
    "### Exercise 10.1"
   ]
  },
  {
   "cell_type": "code",
   "execution_count": 34,
   "metadata": {},
   "outputs": [],
   "source": [
    "import numpy as np\n",
    "import sys\n",
    "from matplotlib import pyplot as plt\n",
    "sys.path.append('../python_scripts')\n",
    "from GMesh2d import MESH2D\n",
    "from GHeatConservationSolver import EXPLICIT_SOLVER"
   ]
  },
  {
   "cell_type": "markdown",
   "metadata": {},
   "source": [
    "#### Initiate a 2d mesh\n",
    "\n",
    "This MESH2D class is defined in \"python_scripts/GMesh2d.py\". \n",
    "Here, we use a regular grid of 51 × 31 points. The model size is 1000 × 1500 km2 (i.e. 1 000 000 × 1 500 000 m2). "
   ]
  },
  {
   "cell_type": "code",
   "execution_count": 35,
   "metadata": {},
   "outputs": [],
   "source": [
    "# initiate mesh\n",
    "xsize = 1000000.0 # Model size, m\n",
    "ysize = 1500000.0\n",
    "xnum = 11   # Number of nodes\n",
    "ynum = 16\n",
    "xs = np.linspace(0.0, xsize, xnum) # construct xs \n",
    "ys = np.linspace(0.0, ysize, ynum) # construct ys\n",
    "Mesh2d = MESH2D(xs, ys)"
   ]
  },
  {
   "cell_type": "markdown",
   "metadata": {},
   "source": [
    "#### Read in the initial temperature\n",
    "\n",
    "The initial setup corresponds to a background temperature of 1000 K with a rectangular thermal wave (1300 K) in the middle (‘wave’ means sharp perturbation of the temperature field)."
   ]
  },
  {
   "cell_type": "code",
   "execution_count": 36,
   "metadata": {},
   "outputs": [
    {
     "name": "stdout",
     "output_type": "stream",
     "text": [
      "(16, 11)\n"
     ]
    },
    {
     "data": {
      "text/plain": [
       "<matplotlib.colorbar.Colorbar at 0x7f2e9e0924e0>"
      ]
     },
     "execution_count": 36,
     "metadata": {},
     "output_type": "execute_result"
    },
    {
     "data": {
      "image/png": "[encoded data removed]",
      "text/plain": [
       "<Figure size 432x288 with 2 Axes>"
      ]
     },
     "metadata": {
      "needs_background": "light"
     },
     "output_type": "display_data"
    }
   ],
   "source": [
    "# initial temperature\n",
    "def rectangular_wave_temperature(x, y, xsize, ysize):\n",
    "    '''\n",
    "    temperature profile of a retangular wave in the middle\n",
    "    '''\n",
    "    dx = xsize / 3.0\n",
    "    dy = ysize / 3.0\n",
    "    if type(x) == float and type(y) == float:\n",
    "      assert(x >= 0 and x <= xsize and y >= 0 and y <= ysize)\n",
    "      if x > (xsize - dx) / 2.0 and x < (xsize + dx) / 2.0\\\n",
    "        and y > (ysize - dy) / 2.0 and y < (ysize + dy) / 2.0:\n",
    "        T = 1300.0\n",
    "      else:\n",
    "        T = 1000.0\n",
    "    elif type(x) == np.ndarray and type(y) == np.ndarray:\n",
    "      assert(x.shape == y.shape)\n",
    "      mask = (x > (xsize - dx) / 2.0) & (x < (xsize + dx) / 2.0)\\\n",
    "        & (y > (ysize - dy) / 2.0) & (y < (ysize + dy) / 2.0)\n",
    "      T = np.ones(x.shape) * 1000.0\n",
    "      T[mask] = 1300.0\n",
    "    else:\n",
    "      raise TypeError(\"Type of x or y is wrong (either float or numpy.ndarray\")\n",
    "    return T\n",
    "\n",
    "xxs, yys = np.meshgrid(xs, ys)\n",
    "Ts_init = rectangular_wave_temperature(xxs, yys, xsize, ysize)\n",
    "print(Ts_init.shape)  # debug\n",
    "\n",
    "# plot\n",
    "fig, ax = plt.subplots()\n",
    "h = ax.pcolor(xxs, yys, Ts_init)\n",
    "ax.set_title('Initial temperature')\n",
    "ax.set_xlabel('x (m)')\n",
    "ax.set_ylabel('y (m)')\n",
    "ax.set_xlim([0.0, xsize])\n",
    "ax.set_ylim([0.0, ysize])\n",
    "ax.invert_yaxis()\n",
    "fig.colorbar(h, ax=ax, label='T (K)')"
   ]
  },
  {
   "cell_type": "markdown",
   "metadata": {},
   "source": [
    "#### Solve the problem\n",
    "\n",
    "An explicit FD is used with Eq (10.4) from the textbook. \n",
    "Use constant thermal conductivity k = 3 W/(m K), density ρ = 3200 kg/m 3 and heat capacity CP = 1000 J/(kg K) for the entire model. "
   ]
  },
  {
   "cell_type": "code",
   "execution_count": 37,
   "metadata": {},
   "outputs": [
    {
     "name": "stdout",
     "output_type": "stream",
     "text": [
      "Temperature solver: 1.6270e-03 s to solver\n"
     ]
    },
    {
     "ename": "AttributeError",
     "evalue": "'EXPLICIT_SOLVER' object has no attribute 'get_time'",
     "output_type": "error",
     "traceback": [
      "\u001b[0;31m---------------------------------------------------------------------------\u001b[0m",
      "\u001b[0;31mAttributeError\u001b[0m                            Traceback (most recent call last)",
      "\u001b[0;32m/tmp/ipykernel_134718/950480083.py\u001b[0m in \u001b[0;36m<module>\u001b[0;34m\u001b[0m\n\u001b[1;32m      8\u001b[0m \u001b[0;31m# export and plot\u001b[0m\u001b[0;34m\u001b[0m\u001b[0;34m\u001b[0m\u001b[0;34m\u001b[0m\u001b[0m\n\u001b[1;32m      9\u001b[0m \u001b[0mxxs\u001b[0m\u001b[0;34m,\u001b[0m \u001b[0myys\u001b[0m\u001b[0;34m,\u001b[0m \u001b[0mTs\u001b[0m \u001b[0;34m=\u001b[0m \u001b[0mHCSolver\u001b[0m\u001b[0;34m.\u001b[0m\u001b[0mexport\u001b[0m\u001b[0;34m(\u001b[0m\u001b[0;34m)\u001b[0m\u001b[0;34m\u001b[0m\u001b[0;34m\u001b[0m\u001b[0m\n\u001b[0;32m---> 10\u001b[0;31m \u001b[0mt\u001b[0m \u001b[0;34m=\u001b[0m \u001b[0mHCSolver\u001b[0m\u001b[0;34m.\u001b[0m\u001b[0mget_time\u001b[0m\u001b[0;34m(\u001b[0m\u001b[0;34m)\u001b[0m\u001b[0;34m\u001b[0m\u001b[0;34m\u001b[0m\u001b[0m\n\u001b[0m\u001b[1;32m     11\u001b[0m \u001b[0mfig\u001b[0m\u001b[0;34m,\u001b[0m \u001b[0max\u001b[0m \u001b[0;34m=\u001b[0m \u001b[0mplt\u001b[0m\u001b[0;34m.\u001b[0m\u001b[0msubplots\u001b[0m\u001b[0;34m(\u001b[0m\u001b[0;34m)\u001b[0m\u001b[0;34m\u001b[0m\u001b[0;34m\u001b[0m\u001b[0m\n\u001b[1;32m     12\u001b[0m \u001b[0mh\u001b[0m \u001b[0;34m=\u001b[0m \u001b[0max\u001b[0m\u001b[0;34m.\u001b[0m\u001b[0mpcolor\u001b[0m\u001b[0;34m(\u001b[0m\u001b[0mxxs\u001b[0m\u001b[0;34m,\u001b[0m \u001b[0myys\u001b[0m\u001b[0;34m,\u001b[0m \u001b[0mTs\u001b[0m\u001b[0;34m)\u001b[0m\u001b[0;34m\u001b[0m\u001b[0;34m\u001b[0m\u001b[0m\n",
      "\u001b[0;31mAttributeError\u001b[0m: 'EXPLICIT_SOLVER' object has no attribute 'get_time'"
     ]
    }
   ],
   "source": [
    "year = 365 * 24 * 3600.0\n",
    "# initiate solver\n",
    "HCSolver = EXPLICIT_SOLVER(Mesh2d, use_constant_thermal_conductivity=True)\n",
    "HCSolver.initial_temperature(Ts_init)  # use the rectangular perturbation as the initial temperature\n",
    "HCSolver.assemble(3.0, 3200.0, 1000.0, 1e6 * year)\n",
    "HCSolver.solve()\n",
    "\n",
    "# export and plot\n",
    "xxs, yys, Ts = HCSolver.export()\n",
    "t = HCSolver.get_time()\n",
    "fig, ax = plt.subplots()\n",
    "h = ax.pcolor(xxs, yys, Ts)\n",
    "ax.set_title('Temperature, t = %.4e year' % (t/year))\n",
    "ax.set_xlabel('x (m)')\n",
    "ax.set_ylabel('y (m)')\n",
    "ax.set_xlim([0.0, xsize])\n",
    "ax.set_ylim([0.0, ysize])\n",
    "ax.invert_yaxis()\n",
    "fig.colorbar(h, ax=ax, label='T (K)')"
   ]
  }
 ],
 "metadata": {
  "interpreter": {
   "hash": "8f33dd015e1c055b25902c2ee01e1794e81009d50838a75bf0f2a1de0dd299ff"
  },
  "kernelspec": {
   "display_name": "Python 3.7.3 ('base')",
   "language": "python",
   "name": "python3"
  },
  "language_info": {
   "codemirror_mode": {
    "name": "ipython",
    "version": 3
   },
   "file_extension": ".py",
   "mimetype": "text/x-python",
   "name": "python",
   "nbconvert_exporter": "python",
   "pygments_lexer": "ipython3",
   "version": "3.7.3"
  },
  "orig_nbformat": 4
 },
 "nbformat": 4,
 "nbformat_minor": 2
}

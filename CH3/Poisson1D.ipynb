{
 "cells": [
  {
   "cell_type": "markdown",
   "metadata": {},
   "source": [
    "### Exercise 3.1\n",
    "\n",
    "This one would let us solve a poisson equation in a 1-d geometry with 101 points. It requires using a sparse matrix to save the data. "
   ]
  },
  {
   "cell_type": "code",
   "execution_count": 8,
   "metadata": {},
   "outputs": [],
   "source": [
    "import numpy as np\n",
    "from matplotlib import pyplot as plt\n",
    "from scipy.sparse import csr_matrix\n",
    "from scipy.sparse.linalg import spsolve"
   ]
  },
  {
   "cell_type": "markdown",
   "metadata": {},
   "source": [
    "#### Step 1: Setup the mesh"
   ]
  },
  {
   "cell_type": "code",
   "execution_count": 3,
   "metadata": {},
   "outputs": [],
   "source": [
    "# Numerical model parameters\n",
    "xsize = 1000000.0 # Model size, m\n",
    "xnum = 1000   # Number of nodes\n",
    "xstp = xsize/(xnum-1) # Grid step"
   ]
  },
  {
   "cell_type": "markdown",
   "metadata": {},
   "source": [
    "#### Step 2: Now we start to construct the coefficent matrix and matrix"
   ]
  },
  {
   "cell_type": "code",
   "execution_count": 9,
   "metadata": {},
   "outputs": [
    {
     "name": "stderr",
     "output_type": "stream",
     "text": [
      "/home/lochy/anaconda3/envs/gel298_winter/lib/python3.8/site-packages/scipy/sparse/_index.py:82: SparseEfficiencyWarning: Changing the sparsity structure of a csr_matrix is expensive. lil_matrix is more efficient.\n",
      "  self._set_intXint(row, col, x.flat[0])\n"
     ]
    }
   ],
   "source": [
    "# Composing matrix of coefficients L()\n",
    "# and vector (column) of right parts R()\n",
    "# First point: FI=0\n",
    "# Coefficient matrix initialization\n",
    "L = csr_matrix((xnum,xnum))\n",
    "L[0,0] = 1\n",
    "# Vector of right part initialization\n",
    "R = np.zeros((xnum,1))\n",
    "R[0,0] = 0\n",
    "# Intermediate points\n",
    "for i in range(1, xnum-1):\n",
    "    # d2FI/dx2=1\n",
    "    # (FI(i-1)-2*FI(i)+FI(i+1))/dx^2=1\n",
    "    L[i,i-1] = 1.0/xstp**2.0\n",
    "    L[i,i] = -2.0/xstp**2.0\n",
    "    L[i,i+1] = 1.0/xstp**2.0\n",
    "    R[i,0] = 1.0 \n",
    "# Last point: FI=0\n",
    "L[xnum-1, xnum-1] = 1.0\n",
    "R[xnum-1, 0] = 0.0"
   ]
  },
  {
   "cell_type": "markdown",
   "metadata": {},
   "source": [
    "#### Step 3: solve"
   ]
  },
  {
   "cell_type": "code",
   "execution_count": 10,
   "metadata": {},
   "outputs": [],
   "source": [
    "# Obtaining vector (line) of solutions S()\n",
    "S = spsolve(L, R)"
   ]
  },
  {
   "cell_type": "markdown",
   "metadata": {},
   "source": [
    "#### Step 4: plot"
   ]
  },
  {
   "cell_type": "code",
   "execution_count": 13,
   "metadata": {},
   "outputs": [
    {
     "data": {
      "image/png": "[encoded data removed]",
      "text/plain": [
       "<Figure size 432x288 with 1 Axes>"
      ]
     },
     "metadata": {
      "needs_background": "light"
     },
     "output_type": "display_data"
    }
   ],
   "source": [
    "x = np.linspace(0.0, xsize, xnum)\n",
    "plt.plot(x/1000.0,S)\n",
    "plt.show()"
   ]
  }
 ],
 "metadata": {
  "kernelspec": {
   "display_name": "Python (gel298_winter)",
   "language": "python",
   "name": "gel298_winter"
  },
  "language_info": {
   "codemirror_mode": {
    "name": "ipython",
    "version": 3
   },
   "file_extension": ".py",
   "mimetype": "text/x-python",
   "name": "python",
   "nbconvert_exporter": "python",
   "pygments_lexer": "ipython3",
   "version": "3.8.12"
  },
  "orig_nbformat": 4
 },
 "nbformat": 4,
 "nbformat_minor": 2
}
